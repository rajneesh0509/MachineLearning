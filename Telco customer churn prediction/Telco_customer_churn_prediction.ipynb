{
 "cells": [
  {
   "cell_type": "markdown",
   "id": "9bda93ba",
   "metadata": {
    "id": "9bda93ba"
   },
   "source": [
    "# <center>        **Introduction to Data Science (S1-22_DSECLZG523)-ASSIGNMENT**</center>\n",
    "\n",
    "## Group No : IDS Group 06\n",
    "\n",
    "## Group Member Names:\n",
    "1. SUMIL KHOSLA\n",
    "2. RAJNEESH KUMAR\n",
    "3. REVATHI G\n",
    "4. CHAVAN JEEVAN MADHUKAR"
   ]
  },
  {
   "cell_type": "markdown",
   "id": "f5d80c60",
   "metadata": {
    "id": "f5d80c60"
   },
   "source": [
    "# 1. Business Understanding\n",
    " \n",
    "Students are expected to identify a classification problem of your choice. You have to detail the Business Understanding part of your problem under this heading which basically addresses the following questions.\n",
    " \n",
    "   1. What is the business problem that you are trying to solve?\n",
    "   2. What data do you need to answer the above problem?\n",
    "   3. What are the different sources of data?    \n",
    "   4. What kind of analytics task are you performing?\n",
    "\n",
    "Score: 1 Mark in total (0.25 mark each)"
   ]
  },
  {
   "cell_type": "raw",
   "id": "3298e121",
   "metadata": {
    "id": "3298e121"
   },
   "source": [
    "--------------Type the answers below this line-------------- "
   ]
  },
  {
   "cell_type": "markdown",
   "id": "782cc654",
   "metadata": {},
   "source": [
    "**1. Business problem**: To analyse Telco customer churn and predict behavior to retain customers\n",
    "\n",
    "**2. Data requirement**: Customer account information (Payment method, monthly charges, contract, etc.), Services availed by customers (phone, internet, online security/backup, etc.), Demographic information about customers\n",
    "\n",
    "**3. Source of data**: IBM sample data sets\n",
    "\n",
    "**4. Type of analytics task** : Predictive analytics"
   ]
  },
  {
   "cell_type": "markdown",
   "id": "6616258a",
   "metadata": {},
   "source": [
    "#### Description of the Telco Customer Churn dataset\n",
    "Each row represents a customer, each column contains customer’s attributes described on the column Metadata.\n",
    "The raw data contains 7043 rows (customers) and 21 columns (features).:\n",
    "\n",
    "-    **Customer ID**: Unique ID of customer ---------------------------------------------- **Categorical**\n",
    "-    **gender**: Whether the customer is a male or a female------------------------------- **Categorical**\n",
    "-    **SeniorCitizen**: Whether the customer is a senior citizen or not (1, 0)------------ **Categorical**\n",
    "-    **Partner**: Whether the customer has a partner or not (Yes, No)--------------------- **Categorical**\n",
    "-    **Dependents**: Whether the customer has dependents or not (Yes, No)----------------- **Categorical**\n",
    "-    **tenure**: Number of months the customer has stayed with the company --------------- **Numerical**\n",
    "-    **PhoneService**: Whether the customer has a phone service or not (Yes, No)----------------------------- **Categorical**\n",
    "-    **MultipleLines**: Whether the customer has multiple lines or not (Yes, No, No phone service)----------- **Categorical**\n",
    "-    **InternetService**: Customer’s internet service provider (DSL, Fiber optic, No)------------------------ **Categorical**\n",
    "-    **OnlineSecurity**: Whether the customer has online security or not (Yes, No, No internet service)------ **Categorical**\n",
    "-    **OnlineBackup**: Whether the customer has online backup or not (Yes, No, No internet service)---------- **Categorical**\n",
    "-    **DeviceProtection**: Whether the customer has device protection or not (Yes, No, No internet service)---**Categorical**\n",
    "-    **TechSupport**: Whether the customer has Technical support or not (Yes, No, No internet service)------- **Categorical**\n",
    "-    **StreamingTV**: Whether the customer is streaming TV or not (Yes, No, No internet service)------------- **Categorical**\n",
    "-    **StreamingMovies**: Whether the customer is streaming movie or not (Yes, No, No internet service)------ **Categorical**\n",
    "-    **Contract**: Contract duration of the customer (Month-to-month, One year, Two year)-------------------- **Categorical**\n",
    "-    **PaperlessBilling**: Whether customer has opted for paperless billing or not (Yes, No)----------------- **Categorical**\n",
    "-    **PaymentMethod**: Payment method by customer (Bank transfer, Credit card, Electronic check, Mailed check)-**Categorical**\n",
    "-    **MonthlyCharges**: Monthly charge by customer ---------------- **Numerical**\n",
    "-    **TotalCharges**: Total charge by customer -------------------- **Numerical**\n",
    "-    **Churn**: Whether the customer has churned or not (Yes, No)--- **Categorical**\n",
    "\n",
    "\n",
    "The goal of the dataset is to predict churn of the customer."
   ]
  },
  {
   "cell_type": "code",
   "execution_count": 1,
   "id": "44d65225",
   "metadata": {},
   "outputs": [],
   "source": [
    "# Importing necessary libraries\n",
    "import pandas as pd\n",
    "import numpy as np\n",
    "import matplotlib.pyplot as plt\n",
    "import seaborn as sns\n",
    "import warnings\n",
    "import os\n",
    "import zipfile\n",
    "from scipy.stats import skew\n",
    "from sklearn.model_selection import train_test_split\n",
    "from sklearn.preprocessing import StandardScaler, OneHotEncoder\n",
    "from sklearn.metrics import classification_report, confusion_matrix\n",
    "from sklearn.metrics import accuracy_score, precision_score, recall_score, f1_score, roc_auc_score, roc_curve\n",
    "from sklearn.model_selection import cross_val_predict, cross_val_score\n",
    "from sklearn.linear_model import LogisticRegression\n",
    "from sklearn.svm import SVC\n",
    "from sklearn.tree import DecisionTreeClassifier\n",
    "from sklearn.naive_bayes import GaussianNB\n",
    "from sklearn.neighbors import KNeighborsClassifier\n",
    "from sklearn.neural_network import MLPClassifier\n",
    "from sklearn.preprocessing import StandardScaler\n",
    "from sklearn.model_selection import GridSearchCV\n",
    "from sklearn.feature_selection import mutual_info_classif, chi2\n",
    "from sklearn.ensemble import RandomForestClassifier, GradientBoostingClassifier, AdaBoostClassifier, VotingClassifier\n",
    "warnings.filterwarnings(\"ignore\")"
   ]
  },
  {
   "cell_type": "markdown",
   "id": "3cc8e0cb",
   "metadata": {
    "id": "3cc8e0cb"
   },
   "source": [
    "# 2. Data Acquisition\n",
    " \n",
    "For the problem identified , find an appropriate data set (Your data set must \n",
    "be unique) from any public data source.\n",
    "\n",
    "---\n",
    "\n",
    "\n",
    "\n",
    "## 2.1 Download the data directly\n",
    "\n"
   ]
  },
  {
   "cell_type": "code",
   "execution_count": 2,
   "id": "4b51d895",
   "metadata": {
    "id": "4b51d895"
   },
   "outputs": [],
   "source": [
    "##---------Type the code below this line------------------##"
   ]
  },
  {
   "cell_type": "code",
   "execution_count": 3,
   "id": "581ce9b7",
   "metadata": {},
   "outputs": [
    {
     "name": "stdout",
     "output_type": "stream",
     "text": [
      "Requirement already satisfied: kaggle in c:\\programdata\\anaconda3\\lib\\site-packages (1.5.13)\n",
      "Requirement already satisfied: requests in c:\\programdata\\anaconda3\\lib\\site-packages (from kaggle) (2.26.0)\n",
      "Requirement already satisfied: certifi in c:\\programdata\\anaconda3\\lib\\site-packages (from kaggle) (2021.10.8)\n",
      "Requirement already satisfied: python-dateutil in c:\\programdata\\anaconda3\\lib\\site-packages (from kaggle) (2.8.2)\n",
      "Requirement already satisfied: python-slugify in c:\\programdata\\anaconda3\\lib\\site-packages (from kaggle) (5.0.2)\n",
      "Requirement already satisfied: tqdm in c:\\programdata\\anaconda3\\lib\\site-packages (from kaggle) (4.62.3)\n",
      "Requirement already satisfied: urllib3 in c:\\programdata\\anaconda3\\lib\\site-packages (from kaggle) (1.26.7)\n",
      "Requirement already satisfied: six>=1.10 in c:\\programdata\\anaconda3\\lib\\site-packages (from kaggle) (1.16.0)\n",
      "Requirement already satisfied: text-unidecode>=1.3 in c:\\programdata\\anaconda3\\lib\\site-packages (from python-slugify->kaggle) (1.3)\n",
      "Requirement already satisfied: charset-normalizer~=2.0.0 in c:\\programdata\\anaconda3\\lib\\site-packages (from requests->kaggle) (2.0.4)\n",
      "Requirement already satisfied: idna<4,>=2.5 in c:\\programdata\\anaconda3\\lib\\site-packages (from requests->kaggle) (3.2)\n",
      "Requirement already satisfied: colorama in c:\\programdata\\anaconda3\\lib\\site-packages (from tqdm->kaggle) (0.4.4)\n"
     ]
    }
   ],
   "source": [
    "! pip install kaggle"
   ]
  },
  {
   "cell_type": "code",
   "execution_count": 4,
   "id": "d0182e41",
   "metadata": {},
   "outputs": [
    {
     "name": "stdout",
     "output_type": "stream",
     "text": [
      "Downloading telco-customer-churn.zip to C:\\Users\\DELL\\Python for Data Science\\IDS\\assignment-1_IDS"
     ]
    },
    {
     "name": "stderr",
     "output_type": "stream",
     "text": [
      "\n",
      "  0%|          | 0.00/172k [00:00<?, ?B/s]\n",
      "100%|##########| 172k/172k [00:00<00:00, 1.02MB/s]\n",
      "100%|##########| 172k/172k [00:00<00:00, 1.02MB/s]\n"
     ]
    },
    {
     "name": "stdout",
     "output_type": "stream",
     "text": [
      "\n",
      "\n"
     ]
    }
   ],
   "source": [
    "os.environ['KAGGLE_USERNAME'] = 'sumilk'\n",
    "os.environ['KAGGLE_KEY'] = '56d698509e70267de88b382bcc4126b6'\n",
    "\n",
    "#download the dataset\n",
    "!kaggle datasets download -d blastchar/telco-customer-churn"
   ]
  },
  {
   "cell_type": "code",
   "execution_count": 5,
   "id": "5887ccc7",
   "metadata": {},
   "outputs": [],
   "source": [
    "#extracting the dataset\n",
    "with zipfile.ZipFile('telco-customer-churn.zip', 'r') as zip_ref:\n",
    "    zip_ref.extractall('.')"
   ]
  },
  {
   "cell_type": "markdown",
   "id": "49530d0c",
   "metadata": {
    "id": "49530d0c"
   },
   "source": [
    "## 2.2 Code for converting the above downloaded data into a dataframe"
   ]
  },
  {
   "cell_type": "code",
   "execution_count": 6,
   "id": "c1f4c171",
   "metadata": {
    "id": "c1f4c171"
   },
   "outputs": [],
   "source": [
    "##---------Type the code below this line------------------##\n",
    "df = pd.read_csv(\"WA_Fn-UseC_-Telco-Customer-Churn.csv\")"
   ]
  },
  {
   "cell_type": "markdown",
   "id": "7b1fea4d",
   "metadata": {
    "id": "7b1fea4d"
   },
   "source": [
    "## 2.3 Confirm the data has been correctly by displaying the first 5 and last 5 records."
   ]
  },
  {
   "cell_type": "code",
   "execution_count": 7,
   "id": "624e6c58",
   "metadata": {
    "id": "624e6c58"
   },
   "outputs": [],
   "source": [
    "##---------Type the code below this line------------------##"
   ]
  },
  {
   "cell_type": "code",
   "execution_count": 8,
   "id": "4ed29804",
   "metadata": {},
   "outputs": [
    {
     "data": {
      "text/html": [
       "<div>\n",
       "<style scoped>\n",
       "    .dataframe tbody tr th:only-of-type {\n",
       "        vertical-align: middle;\n",
       "    }\n",
       "\n",
       "    .dataframe tbody tr th {\n",
       "        vertical-align: top;\n",
       "    }\n",
       "\n",
       "    .dataframe thead th {\n",
       "        text-align: right;\n",
       "    }\n",
       "</style>\n",
       "<table border=\"1\" class=\"dataframe\">\n",
       "  <thead>\n",
       "    <tr style=\"text-align: right;\">\n",
       "      <th></th>\n",
       "      <th>customerID</th>\n",
       "      <th>gender</th>\n",
       "      <th>SeniorCitizen</th>\n",
       "      <th>Partner</th>\n",
       "      <th>Dependents</th>\n",
       "      <th>tenure</th>\n",
       "      <th>PhoneService</th>\n",
       "      <th>MultipleLines</th>\n",
       "      <th>InternetService</th>\n",
       "      <th>OnlineSecurity</th>\n",
       "      <th>...</th>\n",
       "      <th>DeviceProtection</th>\n",
       "      <th>TechSupport</th>\n",
       "      <th>StreamingTV</th>\n",
       "      <th>StreamingMovies</th>\n",
       "      <th>Contract</th>\n",
       "      <th>PaperlessBilling</th>\n",
       "      <th>PaymentMethod</th>\n",
       "      <th>MonthlyCharges</th>\n",
       "      <th>TotalCharges</th>\n",
       "      <th>Churn</th>\n",
       "    </tr>\n",
       "  </thead>\n",
       "  <tbody>\n",
       "    <tr>\n",
       "      <th>0</th>\n",
       "      <td>7590-VHVEG</td>\n",
       "      <td>Female</td>\n",
       "      <td>0</td>\n",
       "      <td>Yes</td>\n",
       "      <td>No</td>\n",
       "      <td>1</td>\n",
       "      <td>No</td>\n",
       "      <td>No phone service</td>\n",
       "      <td>DSL</td>\n",
       "      <td>No</td>\n",
       "      <td>...</td>\n",
       "      <td>No</td>\n",
       "      <td>No</td>\n",
       "      <td>No</td>\n",
       "      <td>No</td>\n",
       "      <td>Month-to-month</td>\n",
       "      <td>Yes</td>\n",
       "      <td>Electronic check</td>\n",
       "      <td>29.85</td>\n",
       "      <td>29.85</td>\n",
       "      <td>No</td>\n",
       "    </tr>\n",
       "    <tr>\n",
       "      <th>1</th>\n",
       "      <td>5575-GNVDE</td>\n",
       "      <td>Male</td>\n",
       "      <td>0</td>\n",
       "      <td>No</td>\n",
       "      <td>No</td>\n",
       "      <td>34</td>\n",
       "      <td>Yes</td>\n",
       "      <td>No</td>\n",
       "      <td>DSL</td>\n",
       "      <td>Yes</td>\n",
       "      <td>...</td>\n",
       "      <td>Yes</td>\n",
       "      <td>No</td>\n",
       "      <td>No</td>\n",
       "      <td>No</td>\n",
       "      <td>One year</td>\n",
       "      <td>No</td>\n",
       "      <td>Mailed check</td>\n",
       "      <td>56.95</td>\n",
       "      <td>1889.5</td>\n",
       "      <td>No</td>\n",
       "    </tr>\n",
       "    <tr>\n",
       "      <th>2</th>\n",
       "      <td>3668-QPYBK</td>\n",
       "      <td>Male</td>\n",
       "      <td>0</td>\n",
       "      <td>No</td>\n",
       "      <td>No</td>\n",
       "      <td>2</td>\n",
       "      <td>Yes</td>\n",
       "      <td>No</td>\n",
       "      <td>DSL</td>\n",
       "      <td>Yes</td>\n",
       "      <td>...</td>\n",
       "      <td>No</td>\n",
       "      <td>No</td>\n",
       "      <td>No</td>\n",
       "      <td>No</td>\n",
       "      <td>Month-to-month</td>\n",
       "      <td>Yes</td>\n",
       "      <td>Mailed check</td>\n",
       "      <td>53.85</td>\n",
       "      <td>108.15</td>\n",
       "      <td>Yes</td>\n",
       "    </tr>\n",
       "    <tr>\n",
       "      <th>3</th>\n",
       "      <td>7795-CFOCW</td>\n",
       "      <td>Male</td>\n",
       "      <td>0</td>\n",
       "      <td>No</td>\n",
       "      <td>No</td>\n",
       "      <td>45</td>\n",
       "      <td>No</td>\n",
       "      <td>No phone service</td>\n",
       "      <td>DSL</td>\n",
       "      <td>Yes</td>\n",
       "      <td>...</td>\n",
       "      <td>Yes</td>\n",
       "      <td>Yes</td>\n",
       "      <td>No</td>\n",
       "      <td>No</td>\n",
       "      <td>One year</td>\n",
       "      <td>No</td>\n",
       "      <td>Bank transfer (automatic)</td>\n",
       "      <td>42.30</td>\n",
       "      <td>1840.75</td>\n",
       "      <td>No</td>\n",
       "    </tr>\n",
       "    <tr>\n",
       "      <th>4</th>\n",
       "      <td>9237-HQITU</td>\n",
       "      <td>Female</td>\n",
       "      <td>0</td>\n",
       "      <td>No</td>\n",
       "      <td>No</td>\n",
       "      <td>2</td>\n",
       "      <td>Yes</td>\n",
       "      <td>No</td>\n",
       "      <td>Fiber optic</td>\n",
       "      <td>No</td>\n",
       "      <td>...</td>\n",
       "      <td>No</td>\n",
       "      <td>No</td>\n",
       "      <td>No</td>\n",
       "      <td>No</td>\n",
       "      <td>Month-to-month</td>\n",
       "      <td>Yes</td>\n",
       "      <td>Electronic check</td>\n",
       "      <td>70.70</td>\n",
       "      <td>151.65</td>\n",
       "      <td>Yes</td>\n",
       "    </tr>\n",
       "  </tbody>\n",
       "</table>\n",
       "<p>5 rows × 21 columns</p>\n",
       "</div>"
      ],
      "text/plain": [
       "   customerID  gender  SeniorCitizen Partner Dependents  tenure PhoneService  \\\n",
       "0  7590-VHVEG  Female              0     Yes         No       1           No   \n",
       "1  5575-GNVDE    Male              0      No         No      34          Yes   \n",
       "2  3668-QPYBK    Male              0      No         No       2          Yes   \n",
       "3  7795-CFOCW    Male              0      No         No      45           No   \n",
       "4  9237-HQITU  Female              0      No         No       2          Yes   \n",
       "\n",
       "      MultipleLines InternetService OnlineSecurity  ... DeviceProtection  \\\n",
       "0  No phone service             DSL             No  ...               No   \n",
       "1                No             DSL            Yes  ...              Yes   \n",
       "2                No             DSL            Yes  ...               No   \n",
       "3  No phone service             DSL            Yes  ...              Yes   \n",
       "4                No     Fiber optic             No  ...               No   \n",
       "\n",
       "  TechSupport StreamingTV StreamingMovies        Contract PaperlessBilling  \\\n",
       "0          No          No              No  Month-to-month              Yes   \n",
       "1          No          No              No        One year               No   \n",
       "2          No          No              No  Month-to-month              Yes   \n",
       "3         Yes          No              No        One year               No   \n",
       "4          No          No              No  Month-to-month              Yes   \n",
       "\n",
       "               PaymentMethod MonthlyCharges  TotalCharges Churn  \n",
       "0           Electronic check          29.85         29.85    No  \n",
       "1               Mailed check          56.95        1889.5    No  \n",
       "2               Mailed check          53.85        108.15   Yes  \n",
       "3  Bank transfer (automatic)          42.30       1840.75    No  \n",
       "4           Electronic check          70.70        151.65   Yes  \n",
       "\n",
       "[5 rows x 21 columns]"
      ]
     },
     "execution_count": 8,
     "metadata": {},
     "output_type": "execute_result"
    }
   ],
   "source": [
    "# Display first 5 records\n",
    "df.head()"
   ]
  },
  {
   "cell_type": "code",
   "execution_count": 9,
   "id": "5366a778",
   "metadata": {},
   "outputs": [
    {
     "data": {
      "text/html": [
       "<div>\n",
       "<style scoped>\n",
       "    .dataframe tbody tr th:only-of-type {\n",
       "        vertical-align: middle;\n",
       "    }\n",
       "\n",
       "    .dataframe tbody tr th {\n",
       "        vertical-align: top;\n",
       "    }\n",
       "\n",
       "    .dataframe thead th {\n",
       "        text-align: right;\n",
       "    }\n",
       "</style>\n",
       "<table border=\"1\" class=\"dataframe\">\n",
       "  <thead>\n",
       "    <tr style=\"text-align: right;\">\n",
       "      <th></th>\n",
       "      <th>customerID</th>\n",
       "      <th>gender</th>\n",
       "      <th>SeniorCitizen</th>\n",
       "      <th>Partner</th>\n",
       "      <th>Dependents</th>\n",
       "      <th>tenure</th>\n",
       "      <th>PhoneService</th>\n",
       "      <th>MultipleLines</th>\n",
       "      <th>InternetService</th>\n",
       "      <th>OnlineSecurity</th>\n",
       "      <th>...</th>\n",
       "      <th>DeviceProtection</th>\n",
       "      <th>TechSupport</th>\n",
       "      <th>StreamingTV</th>\n",
       "      <th>StreamingMovies</th>\n",
       "      <th>Contract</th>\n",
       "      <th>PaperlessBilling</th>\n",
       "      <th>PaymentMethod</th>\n",
       "      <th>MonthlyCharges</th>\n",
       "      <th>TotalCharges</th>\n",
       "      <th>Churn</th>\n",
       "    </tr>\n",
       "  </thead>\n",
       "  <tbody>\n",
       "    <tr>\n",
       "      <th>7038</th>\n",
       "      <td>6840-RESVB</td>\n",
       "      <td>Male</td>\n",
       "      <td>0</td>\n",
       "      <td>Yes</td>\n",
       "      <td>Yes</td>\n",
       "      <td>24</td>\n",
       "      <td>Yes</td>\n",
       "      <td>Yes</td>\n",
       "      <td>DSL</td>\n",
       "      <td>Yes</td>\n",
       "      <td>...</td>\n",
       "      <td>Yes</td>\n",
       "      <td>Yes</td>\n",
       "      <td>Yes</td>\n",
       "      <td>Yes</td>\n",
       "      <td>One year</td>\n",
       "      <td>Yes</td>\n",
       "      <td>Mailed check</td>\n",
       "      <td>84.80</td>\n",
       "      <td>1990.5</td>\n",
       "      <td>No</td>\n",
       "    </tr>\n",
       "    <tr>\n",
       "      <th>7039</th>\n",
       "      <td>2234-XADUH</td>\n",
       "      <td>Female</td>\n",
       "      <td>0</td>\n",
       "      <td>Yes</td>\n",
       "      <td>Yes</td>\n",
       "      <td>72</td>\n",
       "      <td>Yes</td>\n",
       "      <td>Yes</td>\n",
       "      <td>Fiber optic</td>\n",
       "      <td>No</td>\n",
       "      <td>...</td>\n",
       "      <td>Yes</td>\n",
       "      <td>No</td>\n",
       "      <td>Yes</td>\n",
       "      <td>Yes</td>\n",
       "      <td>One year</td>\n",
       "      <td>Yes</td>\n",
       "      <td>Credit card (automatic)</td>\n",
       "      <td>103.20</td>\n",
       "      <td>7362.9</td>\n",
       "      <td>No</td>\n",
       "    </tr>\n",
       "    <tr>\n",
       "      <th>7040</th>\n",
       "      <td>4801-JZAZL</td>\n",
       "      <td>Female</td>\n",
       "      <td>0</td>\n",
       "      <td>Yes</td>\n",
       "      <td>Yes</td>\n",
       "      <td>11</td>\n",
       "      <td>No</td>\n",
       "      <td>No phone service</td>\n",
       "      <td>DSL</td>\n",
       "      <td>Yes</td>\n",
       "      <td>...</td>\n",
       "      <td>No</td>\n",
       "      <td>No</td>\n",
       "      <td>No</td>\n",
       "      <td>No</td>\n",
       "      <td>Month-to-month</td>\n",
       "      <td>Yes</td>\n",
       "      <td>Electronic check</td>\n",
       "      <td>29.60</td>\n",
       "      <td>346.45</td>\n",
       "      <td>No</td>\n",
       "    </tr>\n",
       "    <tr>\n",
       "      <th>7041</th>\n",
       "      <td>8361-LTMKD</td>\n",
       "      <td>Male</td>\n",
       "      <td>1</td>\n",
       "      <td>Yes</td>\n",
       "      <td>No</td>\n",
       "      <td>4</td>\n",
       "      <td>Yes</td>\n",
       "      <td>Yes</td>\n",
       "      <td>Fiber optic</td>\n",
       "      <td>No</td>\n",
       "      <td>...</td>\n",
       "      <td>No</td>\n",
       "      <td>No</td>\n",
       "      <td>No</td>\n",
       "      <td>No</td>\n",
       "      <td>Month-to-month</td>\n",
       "      <td>Yes</td>\n",
       "      <td>Mailed check</td>\n",
       "      <td>74.40</td>\n",
       "      <td>306.6</td>\n",
       "      <td>Yes</td>\n",
       "    </tr>\n",
       "    <tr>\n",
       "      <th>7042</th>\n",
       "      <td>3186-AJIEK</td>\n",
       "      <td>Male</td>\n",
       "      <td>0</td>\n",
       "      <td>No</td>\n",
       "      <td>No</td>\n",
       "      <td>66</td>\n",
       "      <td>Yes</td>\n",
       "      <td>No</td>\n",
       "      <td>Fiber optic</td>\n",
       "      <td>Yes</td>\n",
       "      <td>...</td>\n",
       "      <td>Yes</td>\n",
       "      <td>Yes</td>\n",
       "      <td>Yes</td>\n",
       "      <td>Yes</td>\n",
       "      <td>Two year</td>\n",
       "      <td>Yes</td>\n",
       "      <td>Bank transfer (automatic)</td>\n",
       "      <td>105.65</td>\n",
       "      <td>6844.5</td>\n",
       "      <td>No</td>\n",
       "    </tr>\n",
       "  </tbody>\n",
       "</table>\n",
       "<p>5 rows × 21 columns</p>\n",
       "</div>"
      ],
      "text/plain": [
       "      customerID  gender  SeniorCitizen Partner Dependents  tenure  \\\n",
       "7038  6840-RESVB    Male              0     Yes        Yes      24   \n",
       "7039  2234-XADUH  Female              0     Yes        Yes      72   \n",
       "7040  4801-JZAZL  Female              0     Yes        Yes      11   \n",
       "7041  8361-LTMKD    Male              1     Yes         No       4   \n",
       "7042  3186-AJIEK    Male              0      No         No      66   \n",
       "\n",
       "     PhoneService     MultipleLines InternetService OnlineSecurity  ...  \\\n",
       "7038          Yes               Yes             DSL            Yes  ...   \n",
       "7039          Yes               Yes     Fiber optic             No  ...   \n",
       "7040           No  No phone service             DSL            Yes  ...   \n",
       "7041          Yes               Yes     Fiber optic             No  ...   \n",
       "7042          Yes                No     Fiber optic            Yes  ...   \n",
       "\n",
       "     DeviceProtection TechSupport StreamingTV StreamingMovies        Contract  \\\n",
       "7038              Yes         Yes         Yes             Yes        One year   \n",
       "7039              Yes          No         Yes             Yes        One year   \n",
       "7040               No          No          No              No  Month-to-month   \n",
       "7041               No          No          No              No  Month-to-month   \n",
       "7042              Yes         Yes         Yes             Yes        Two year   \n",
       "\n",
       "     PaperlessBilling              PaymentMethod MonthlyCharges  TotalCharges  \\\n",
       "7038              Yes               Mailed check          84.80        1990.5   \n",
       "7039              Yes    Credit card (automatic)         103.20        7362.9   \n",
       "7040              Yes           Electronic check          29.60        346.45   \n",
       "7041              Yes               Mailed check          74.40         306.6   \n",
       "7042              Yes  Bank transfer (automatic)         105.65        6844.5   \n",
       "\n",
       "     Churn  \n",
       "7038    No  \n",
       "7039    No  \n",
       "7040    No  \n",
       "7041   Yes  \n",
       "7042    No  \n",
       "\n",
       "[5 rows x 21 columns]"
      ]
     },
     "execution_count": 9,
     "metadata": {},
     "output_type": "execute_result"
    }
   ],
   "source": [
    "# Display last 5 records\n",
    "df.tail()"
   ]
  },
  {
   "cell_type": "markdown",
   "id": "bb84fc56",
   "metadata": {
    "id": "bb84fc56"
   },
   "source": [
    "## 2.4 Display the column headings, statistical information, description and statistical summary of the data."
   ]
  },
  {
   "cell_type": "code",
   "execution_count": 10,
   "id": "086ad28e",
   "metadata": {
    "id": "086ad28e"
   },
   "outputs": [],
   "source": [
    "##---------Type the code below this line------------------##"
   ]
  },
  {
   "cell_type": "code",
   "execution_count": 11,
   "id": "a0c8436d",
   "metadata": {},
   "outputs": [
    {
     "data": {
      "text/plain": [
       "Index(['customerID', 'gender', 'SeniorCitizen', 'Partner', 'Dependents',\n",
       "       'tenure', 'PhoneService', 'MultipleLines', 'InternetService',\n",
       "       'OnlineSecurity', 'OnlineBackup', 'DeviceProtection', 'TechSupport',\n",
       "       'StreamingTV', 'StreamingMovies', 'Contract', 'PaperlessBilling',\n",
       "       'PaymentMethod', 'MonthlyCharges', 'TotalCharges', 'Churn'],\n",
       "      dtype='object')"
      ]
     },
     "execution_count": 11,
     "metadata": {},
     "output_type": "execute_result"
    }
   ],
   "source": [
    "# Column headings\n",
    "df.columns"
   ]
  },
  {
   "cell_type": "code",
   "execution_count": 12,
   "id": "3b723799",
   "metadata": {},
   "outputs": [
    {
     "name": "stdout",
     "output_type": "stream",
     "text": [
      "Numerical features: ['SeniorCitizen', 'tenure', 'MonthlyCharges']\n",
      "\n",
      "Categorical features: ['customerID', 'gender', 'Partner', 'Dependents', 'PhoneService', 'MultipleLines', 'InternetService', 'OnlineSecurity', 'OnlineBackup', 'DeviceProtection', 'TechSupport', 'StreamingTV', 'StreamingMovies', 'Contract', 'PaperlessBilling', 'PaymentMethod', 'TotalCharges', 'Churn']\n"
     ]
    }
   ],
   "source": [
    "# Finding numerical and categorical features\n",
    "numerical_features = df.select_dtypes(include = [np.number]).columns\n",
    "categorical_features = df.select_dtypes(include = [np.object]).columns\n",
    "print(f'Numerical features: {numerical_features.to_list()}')\n",
    "print(f'\\nCategorical features: {categorical_features.to_list()}')"
   ]
  },
  {
   "cell_type": "code",
   "execution_count": 13,
   "id": "b06d4aec",
   "metadata": {},
   "outputs": [
    {
     "name": "stdout",
     "output_type": "stream",
     "text": [
      "<class 'pandas.core.frame.DataFrame'>\n",
      "RangeIndex: 7043 entries, 0 to 7042\n",
      "Data columns (total 21 columns):\n",
      " #   Column            Non-Null Count  Dtype  \n",
      "---  ------            --------------  -----  \n",
      " 0   customerID        7043 non-null   object \n",
      " 1   gender            7043 non-null   object \n",
      " 2   SeniorCitizen     7043 non-null   int64  \n",
      " 3   Partner           7043 non-null   object \n",
      " 4   Dependents        7043 non-null   object \n",
      " 5   tenure            7043 non-null   int64  \n",
      " 6   PhoneService      7043 non-null   object \n",
      " 7   MultipleLines     7043 non-null   object \n",
      " 8   InternetService   7043 non-null   object \n",
      " 9   OnlineSecurity    7043 non-null   object \n",
      " 10  OnlineBackup      7043 non-null   object \n",
      " 11  DeviceProtection  7043 non-null   object \n",
      " 12  TechSupport       7043 non-null   object \n",
      " 13  StreamingTV       7043 non-null   object \n",
      " 14  StreamingMovies   7043 non-null   object \n",
      " 15  Contract          7043 non-null   object \n",
      " 16  PaperlessBilling  7043 non-null   object \n",
      " 17  PaymentMethod     7043 non-null   object \n",
      " 18  MonthlyCharges    7043 non-null   float64\n",
      " 19  TotalCharges      7043 non-null   object \n",
      " 20  Churn             7043 non-null   object \n",
      "dtypes: float64(1), int64(2), object(18)\n",
      "memory usage: 1.1+ MB\n"
     ]
    }
   ],
   "source": [
    "# Information about dataset\n",
    "df.info()"
   ]
  },
  {
   "cell_type": "code",
   "execution_count": 14,
   "id": "ba777621",
   "metadata": {},
   "outputs": [
    {
     "data": {
      "text/plain": [
       "customerID          0\n",
       "gender              0\n",
       "SeniorCitizen       0\n",
       "Partner             0\n",
       "Dependents          0\n",
       "tenure              0\n",
       "PhoneService        0\n",
       "MultipleLines       0\n",
       "InternetService     0\n",
       "OnlineSecurity      0\n",
       "OnlineBackup        0\n",
       "DeviceProtection    0\n",
       "TechSupport         0\n",
       "StreamingTV         0\n",
       "StreamingMovies     0\n",
       "Contract            0\n",
       "PaperlessBilling    0\n",
       "PaymentMethod       0\n",
       "MonthlyCharges      0\n",
       "TotalCharges        0\n",
       "Churn               0\n",
       "dtype: int64"
      ]
     },
     "execution_count": 14,
     "metadata": {},
     "output_type": "execute_result"
    }
   ],
   "source": [
    "# Checking null/missing values\n",
    "df.isnull().sum()"
   ]
  },
  {
   "cell_type": "code",
   "execution_count": 15,
   "id": "b2164f7e",
   "metadata": {},
   "outputs": [
    {
     "data": {
      "image/png": "[encoded data removed]",
      "text/plain": [
       "<Figure size 864x576 with 4 Axes>"
      ]
     },
     "metadata": {
      "needs_background": "light"
     },
     "output_type": "display_data"
    }
   ],
   "source": [
    "# Distribution of Numerical attribures\n",
    "df[numerical_features[:]].hist(bins=30, figsize=(12,8), grid=False)\n",
    "plt.tight_layout\n",
    "plt.show()"
   ]
  },
  {
   "cell_type": "markdown",
   "id": "e4244b76",
   "metadata": {},
   "source": [
    "Since \"SeniorCitizen\" has only two values 0 & 1 which implies \"No\" or \"Yes\", it's a categorical variable."
   ]
  },
  {
   "cell_type": "code",
   "execution_count": 16,
   "id": "6ac9be57",
   "metadata": {},
   "outputs": [],
   "source": [
    "# Converting integer value of \"SenioCitizen\" to string (Categorical)\n",
    "df[\"SeniorCitizen\"] = df[\"SeniorCitizen\"].astype('str')"
   ]
  },
  {
   "cell_type": "code",
   "execution_count": 17,
   "id": "a671a05b",
   "metadata": {},
   "outputs": [
    {
     "data": {
      "text/html": [
       "<div>\n",
       "<style scoped>\n",
       "    .dataframe tbody tr th:only-of-type {\n",
       "        vertical-align: middle;\n",
       "    }\n",
       "\n",
       "    .dataframe tbody tr th {\n",
       "        vertical-align: top;\n",
       "    }\n",
       "\n",
       "    .dataframe thead th {\n",
       "        text-align: right;\n",
       "    }\n",
       "</style>\n",
       "<table border=\"1\" class=\"dataframe\">\n",
       "  <thead>\n",
       "    <tr style=\"text-align: right;\">\n",
       "      <th></th>\n",
       "      <th>tenure</th>\n",
       "      <th>MonthlyCharges</th>\n",
       "    </tr>\n",
       "  </thead>\n",
       "  <tbody>\n",
       "    <tr>\n",
       "      <th>count</th>\n",
       "      <td>7043.000000</td>\n",
       "      <td>7043.000000</td>\n",
       "    </tr>\n",
       "    <tr>\n",
       "      <th>mean</th>\n",
       "      <td>32.371149</td>\n",
       "      <td>64.761692</td>\n",
       "    </tr>\n",
       "    <tr>\n",
       "      <th>std</th>\n",
       "      <td>24.559481</td>\n",
       "      <td>30.090047</td>\n",
       "    </tr>\n",
       "    <tr>\n",
       "      <th>min</th>\n",
       "      <td>0.000000</td>\n",
       "      <td>18.250000</td>\n",
       "    </tr>\n",
       "    <tr>\n",
       "      <th>25%</th>\n",
       "      <td>9.000000</td>\n",
       "      <td>35.500000</td>\n",
       "    </tr>\n",
       "    <tr>\n",
       "      <th>50%</th>\n",
       "      <td>29.000000</td>\n",
       "      <td>70.350000</td>\n",
       "    </tr>\n",
       "    <tr>\n",
       "      <th>75%</th>\n",
       "      <td>55.000000</td>\n",
       "      <td>89.850000</td>\n",
       "    </tr>\n",
       "    <tr>\n",
       "      <th>max</th>\n",
       "      <td>72.000000</td>\n",
       "      <td>118.750000</td>\n",
       "    </tr>\n",
       "  </tbody>\n",
       "</table>\n",
       "</div>"
      ],
      "text/plain": [
       "            tenure  MonthlyCharges\n",
       "count  7043.000000     7043.000000\n",
       "mean     32.371149       64.761692\n",
       "std      24.559481       30.090047\n",
       "min       0.000000       18.250000\n",
       "25%       9.000000       35.500000\n",
       "50%      29.000000       70.350000\n",
       "75%      55.000000       89.850000\n",
       "max      72.000000      118.750000"
      ]
     },
     "execution_count": 17,
     "metadata": {},
     "output_type": "execute_result"
    }
   ],
   "source": [
    "# Statistical summary of numerical features of the dataset\n",
    "df.describe()"
   ]
  },
  {
   "cell_type": "markdown",
   "id": "812edb18",
   "metadata": {
    "id": "812edb18"
   },
   "source": [
    "## 2.5 Write your observations from the above. \n",
    "1. Size of the dataset\n",
    "2. What type of data attributes are there?\n",
    "3. Is there any null data that has to be cleaned?\n",
    "\n",
    "Score: 2 Marks in total (0.25 marks for 2.1, 0.25 marks for 2.2, 0.5 marks for 2.3, 0.25 marks for 2.4, 0.75 marks for 2.5)"
   ]
  },
  {
   "cell_type": "raw",
   "id": "60d80d2f",
   "metadata": {
    "id": "60d80d2f"
   },
   "source": [
    "--------------Type the answers below this line--------------"
   ]
  },
  {
   "cell_type": "markdown",
   "id": "665974ba",
   "metadata": {},
   "source": [
    "1. There are 7043 records/rows and 21 columns/attributes in the dataset\n",
    "2. There are 3 Numerical attributes and remaining 18 are Categorical types of data attributes\n",
    "3. There is no missing/null value in the dataset"
   ]
  },
  {
   "cell_type": "markdown",
   "id": "102e0e36",
   "metadata": {
    "id": "102e0e36"
   },
   "source": [
    "# 3. Data Preparation"
   ]
  },
  {
   "cell_type": "raw",
   "id": "637cb469",
   "metadata": {
    "id": "637cb469"
   },
   "source": [
    "If input data is numerical or categorical, do 3.1, 3.2 and 3.4\n",
    "If input data is text, do 3.3 and 3.4"
   ]
  },
  {
   "cell_type": "markdown",
   "id": "2bcb953b",
   "metadata": {
    "id": "2bcb953b"
   },
   "source": [
    "## 3.1 Check for \n",
    "\n",
    "* duplicate data\n",
    "* missing data\n",
    "* data inconsistencies\n"
   ]
  },
  {
   "cell_type": "code",
   "execution_count": 18,
   "id": "5a5b960e",
   "metadata": {
    "id": "5a5b960e"
   },
   "outputs": [],
   "source": [
    "##---------Type the code below this line------------------##"
   ]
  },
  {
   "cell_type": "code",
   "execution_count": 19,
   "id": "e5217d49",
   "metadata": {},
   "outputs": [
    {
     "name": "stdout",
     "output_type": "stream",
     "text": [
      "No. of duplicate entries: 0\n"
     ]
    }
   ],
   "source": [
    "# Checking duplicate data\n",
    "duplicate_count = df.duplicated().sum()\n",
    "print(f'No. of duplicate entries: {duplicate_count}')"
   ]
  },
  {
   "cell_type": "code",
   "execution_count": 20,
   "id": "fd2e93e7",
   "metadata": {},
   "outputs": [
    {
     "data": {
      "text/plain": [
       "customerID          0\n",
       "gender              0\n",
       "SeniorCitizen       0\n",
       "Partner             0\n",
       "Dependents          0\n",
       "tenure              0\n",
       "PhoneService        0\n",
       "MultipleLines       0\n",
       "InternetService     0\n",
       "OnlineSecurity      0\n",
       "OnlineBackup        0\n",
       "DeviceProtection    0\n",
       "TechSupport         0\n",
       "StreamingTV         0\n",
       "StreamingMovies     0\n",
       "Contract            0\n",
       "PaperlessBilling    0\n",
       "PaymentMethod       0\n",
       "MonthlyCharges      0\n",
       "TotalCharges        0\n",
       "Churn               0\n",
       "dtype: int64"
      ]
     },
     "execution_count": 20,
     "metadata": {},
     "output_type": "execute_result"
    }
   ],
   "source": [
    "# Checking missing data\n",
    "df.isnull().sum()"
   ]
  },
  {
   "cell_type": "markdown",
   "id": "b637134a",
   "metadata": {},
   "source": [
    "There is no missing value in the dataset"
   ]
  },
  {
   "cell_type": "code",
   "execution_count": 21,
   "id": "255fffb6",
   "metadata": {},
   "outputs": [
    {
     "data": {
      "text/html": [
       "<div>\n",
       "<style scoped>\n",
       "    .dataframe tbody tr th:only-of-type {\n",
       "        vertical-align: middle;\n",
       "    }\n",
       "\n",
       "    .dataframe tbody tr th {\n",
       "        vertical-align: top;\n",
       "    }\n",
       "\n",
       "    .dataframe thead th {\n",
       "        text-align: right;\n",
       "    }\n",
       "</style>\n",
       "<table border=\"1\" class=\"dataframe\">\n",
       "  <thead>\n",
       "    <tr style=\"text-align: right;\">\n",
       "      <th></th>\n",
       "      <th>count</th>\n",
       "      <th>unique</th>\n",
       "      <th>top</th>\n",
       "      <th>freq</th>\n",
       "    </tr>\n",
       "  </thead>\n",
       "  <tbody>\n",
       "    <tr>\n",
       "      <th>customerID</th>\n",
       "      <td>7043</td>\n",
       "      <td>7043</td>\n",
       "      <td>7590-VHVEG</td>\n",
       "      <td>1</td>\n",
       "    </tr>\n",
       "    <tr>\n",
       "      <th>gender</th>\n",
       "      <td>7043</td>\n",
       "      <td>2</td>\n",
       "      <td>Male</td>\n",
       "      <td>3555</td>\n",
       "    </tr>\n",
       "    <tr>\n",
       "      <th>SeniorCitizen</th>\n",
       "      <td>7043</td>\n",
       "      <td>2</td>\n",
       "      <td>0</td>\n",
       "      <td>5901</td>\n",
       "    </tr>\n",
       "    <tr>\n",
       "      <th>Partner</th>\n",
       "      <td>7043</td>\n",
       "      <td>2</td>\n",
       "      <td>No</td>\n",
       "      <td>3641</td>\n",
       "    </tr>\n",
       "    <tr>\n",
       "      <th>Dependents</th>\n",
       "      <td>7043</td>\n",
       "      <td>2</td>\n",
       "      <td>No</td>\n",
       "      <td>4933</td>\n",
       "    </tr>\n",
       "    <tr>\n",
       "      <th>PhoneService</th>\n",
       "      <td>7043</td>\n",
       "      <td>2</td>\n",
       "      <td>Yes</td>\n",
       "      <td>6361</td>\n",
       "    </tr>\n",
       "    <tr>\n",
       "      <th>MultipleLines</th>\n",
       "      <td>7043</td>\n",
       "      <td>3</td>\n",
       "      <td>No</td>\n",
       "      <td>3390</td>\n",
       "    </tr>\n",
       "    <tr>\n",
       "      <th>InternetService</th>\n",
       "      <td>7043</td>\n",
       "      <td>3</td>\n",
       "      <td>Fiber optic</td>\n",
       "      <td>3096</td>\n",
       "    </tr>\n",
       "    <tr>\n",
       "      <th>OnlineSecurity</th>\n",
       "      <td>7043</td>\n",
       "      <td>3</td>\n",
       "      <td>No</td>\n",
       "      <td>3498</td>\n",
       "    </tr>\n",
       "    <tr>\n",
       "      <th>OnlineBackup</th>\n",
       "      <td>7043</td>\n",
       "      <td>3</td>\n",
       "      <td>No</td>\n",
       "      <td>3088</td>\n",
       "    </tr>\n",
       "    <tr>\n",
       "      <th>DeviceProtection</th>\n",
       "      <td>7043</td>\n",
       "      <td>3</td>\n",
       "      <td>No</td>\n",
       "      <td>3095</td>\n",
       "    </tr>\n",
       "    <tr>\n",
       "      <th>TechSupport</th>\n",
       "      <td>7043</td>\n",
       "      <td>3</td>\n",
       "      <td>No</td>\n",
       "      <td>3473</td>\n",
       "    </tr>\n",
       "    <tr>\n",
       "      <th>StreamingTV</th>\n",
       "      <td>7043</td>\n",
       "      <td>3</td>\n",
       "      <td>No</td>\n",
       "      <td>2810</td>\n",
       "    </tr>\n",
       "    <tr>\n",
       "      <th>StreamingMovies</th>\n",
       "      <td>7043</td>\n",
       "      <td>3</td>\n",
       "      <td>No</td>\n",
       "      <td>2785</td>\n",
       "    </tr>\n",
       "    <tr>\n",
       "      <th>Contract</th>\n",
       "      <td>7043</td>\n",
       "      <td>3</td>\n",
       "      <td>Month-to-month</td>\n",
       "      <td>3875</td>\n",
       "    </tr>\n",
       "    <tr>\n",
       "      <th>PaperlessBilling</th>\n",
       "      <td>7043</td>\n",
       "      <td>2</td>\n",
       "      <td>Yes</td>\n",
       "      <td>4171</td>\n",
       "    </tr>\n",
       "    <tr>\n",
       "      <th>PaymentMethod</th>\n",
       "      <td>7043</td>\n",
       "      <td>4</td>\n",
       "      <td>Electronic check</td>\n",
       "      <td>2365</td>\n",
       "    </tr>\n",
       "    <tr>\n",
       "      <th>TotalCharges</th>\n",
       "      <td>7043</td>\n",
       "      <td>6531</td>\n",
       "      <td></td>\n",
       "      <td>11</td>\n",
       "    </tr>\n",
       "    <tr>\n",
       "      <th>Churn</th>\n",
       "      <td>7043</td>\n",
       "      <td>2</td>\n",
       "      <td>No</td>\n",
       "      <td>5174</td>\n",
       "    </tr>\n",
       "  </tbody>\n",
       "</table>\n",
       "</div>"
      ],
      "text/plain": [
       "                 count unique               top  freq\n",
       "customerID        7043   7043        7590-VHVEG     1\n",
       "gender            7043      2              Male  3555\n",
       "SeniorCitizen     7043      2                 0  5901\n",
       "Partner           7043      2                No  3641\n",
       "Dependents        7043      2                No  4933\n",
       "PhoneService      7043      2               Yes  6361\n",
       "MultipleLines     7043      3                No  3390\n",
       "InternetService   7043      3       Fiber optic  3096\n",
       "OnlineSecurity    7043      3                No  3498\n",
       "OnlineBackup      7043      3                No  3088\n",
       "DeviceProtection  7043      3                No  3095\n",
       "TechSupport       7043      3                No  3473\n",
       "StreamingTV       7043      3                No  2810\n",
       "StreamingMovies   7043      3                No  2785\n",
       "Contract          7043      3    Month-to-month  3875\n",
       "PaperlessBilling  7043      2               Yes  4171\n",
       "PaymentMethod     7043      4  Electronic check  2365\n",
       "TotalCharges      7043   6531                      11\n",
       "Churn             7043      2                No  5174"
      ]
     },
     "execution_count": 21,
     "metadata": {},
     "output_type": "execute_result"
    }
   ],
   "source": [
    "# Checking data inconsistencies\n",
    "df.describe(include='O').T"
   ]
  },
  {
   "cell_type": "markdown",
   "id": "a20c10c8",
   "metadata": {},
   "source": [
    "\"TotalCharges\" has 6531 unique values and frequency 11. There could be few whitespace due to which it's not showing null value."
   ]
  },
  {
   "cell_type": "code",
   "execution_count": 22,
   "id": "ebfde827",
   "metadata": {},
   "outputs": [
    {
     "name": "stdout",
     "output_type": "stream",
     "text": [
      "There are 11 whitespaces in feature \"TotalCharges\"\n"
     ]
    }
   ],
   "source": [
    "# Checking whitespace in feature \"TotalCharges\"\n",
    "whitespace_count = len(df[df['TotalCharges'] == ' '])\n",
    "print(f'There are {whitespace_count} whitespaces in feature \"TotalCharges\"')"
   ]
  },
  {
   "cell_type": "markdown",
   "id": "06fdebf8",
   "metadata": {
    "id": "06fdebf8"
   },
   "source": [
    "## 3.2 Apply techiniques\n",
    "* to remove duplicate data\n",
    "* to impute or remove missing data\n",
    "* to remove data inconsistencies\n"
   ]
  },
  {
   "cell_type": "code",
   "execution_count": 23,
   "id": "dd3118eb",
   "metadata": {
    "id": "dd3118eb"
   },
   "outputs": [],
   "source": [
    "##---------Type the code below this line------------------##"
   ]
  },
  {
   "cell_type": "markdown",
   "id": "c5b49250",
   "metadata": {},
   "source": [
    "1. There is no duplicate data to remove\n",
    "2. There is no missing/null value to impute or remove\n",
    "3. Removing data inconsistencies below :\n"
   ]
  },
  {
   "cell_type": "code",
   "execution_count": 24,
   "id": "c9ca1ee0",
   "metadata": {},
   "outputs": [],
   "source": [
    "# Removing 11 records from dataset as this count is very less (11 out of 7043)\n",
    "df = df[df['TotalCharges'] != ' ']"
   ]
  },
  {
   "cell_type": "code",
   "execution_count": 25,
   "id": "bca69074",
   "metadata": {},
   "outputs": [],
   "source": [
    "# Converting \"TotalCharges\" to numerical attribute\n",
    "df[\"TotalCharges\"] = df[\"TotalCharges\"].astype('float')"
   ]
  },
  {
   "cell_type": "code",
   "execution_count": 26,
   "id": "cd145a9a",
   "metadata": {},
   "outputs": [
    {
     "name": "stdout",
     "output_type": "stream",
     "text": [
      "Numerical features: ['tenure', 'MonthlyCharges', 'TotalCharges']\n",
      "\n",
      "Categorical features: ['customerID', 'gender', 'SeniorCitizen', 'Partner', 'Dependents', 'PhoneService', 'MultipleLines', 'InternetService', 'OnlineSecurity', 'OnlineBackup', 'DeviceProtection', 'TechSupport', 'StreamingTV', 'StreamingMovies', 'Contract', 'PaperlessBilling', 'PaymentMethod', 'Churn']\n"
     ]
    }
   ],
   "source": [
    "# Final numerical and categorical features after removing inconsistencies\n",
    "numerical_features = df.select_dtypes(include = [np.number]).columns\n",
    "categorical_features = df.select_dtypes(include = [np.object]).columns\n",
    "print(f'Numerical features: {numerical_features.to_list()}')\n",
    "print(f'\\nCategorical features: {categorical_features.to_list()}')"
   ]
  },
  {
   "cell_type": "markdown",
   "id": "c026fd31",
   "metadata": {},
   "source": [
    "Removing unnecessary attribute"
   ]
  },
  {
   "cell_type": "code",
   "execution_count": 27,
   "id": "f3fcc85c",
   "metadata": {},
   "outputs": [],
   "source": [
    "# Removing \"customerID\" attribute as it has no information\n",
    "df.drop('customerID', axis=1, inplace=True)"
   ]
  },
  {
   "cell_type": "markdown",
   "id": "8af9a6fa",
   "metadata": {},
   "source": [
    "Outlier indentification & treatment"
   ]
  },
  {
   "cell_type": "code",
   "execution_count": 28,
   "id": "64edc5f9",
   "metadata": {},
   "outputs": [
    {
     "data": {
      "text/plain": [
       "<AxesSubplot:xlabel='Churn', ylabel='tenure'>"
      ]
     },
     "execution_count": 28,
     "metadata": {},
     "output_type": "execute_result"
    },
    {
     "data": {
      "image/png": "[encoded data removed]",
      "text/plain": [
       "<Figure size 432x288 with 1 Axes>"
      ]
     },
     "metadata": {
      "needs_background": "light"
     },
     "output_type": "display_data"
    }
   ],
   "source": [
    "sns.boxplot(data=df, x='Churn', y='tenure')"
   ]
  },
  {
   "cell_type": "code",
   "execution_count": 29,
   "id": "418474fe",
   "metadata": {},
   "outputs": [
    {
     "data": {
      "text/plain": [
       "<AxesSubplot:xlabel='Churn', ylabel='MonthlyCharges'>"
      ]
     },
     "execution_count": 29,
     "metadata": {},
     "output_type": "execute_result"
    },
    {
     "data": {
      "image/png": "[encoded data removed]",
      "text/plain": [
       "<Figure size 432x288 with 1 Axes>"
      ]
     },
     "metadata": {
      "needs_background": "light"
     },
     "output_type": "display_data"
    }
   ],
   "source": [
    "sns.boxplot(data=df, x='Churn', y='MonthlyCharges')"
   ]
  },
  {
   "cell_type": "code",
   "execution_count": 30,
   "id": "a60fee11",
   "metadata": {},
   "outputs": [
    {
     "data": {
      "text/plain": [
       "<AxesSubplot:xlabel='Churn', ylabel='TotalCharges'>"
      ]
     },
     "execution_count": 30,
     "metadata": {},
     "output_type": "execute_result"
    },
    {
     "data": {
      "image/png": "[encoded data removed]",
      "text/plain": [
       "<Figure size 432x288 with 1 Axes>"
      ]
     },
     "metadata": {
      "needs_background": "light"
     },
     "output_type": "display_data"
    }
   ],
   "source": [
    "sns.boxplot(data=df, x='Churn', y='TotalCharges')"
   ]
  },
  {
   "cell_type": "code",
   "execution_count": 31,
   "id": "fb1a586f",
   "metadata": {},
   "outputs": [
    {
     "data": {
      "text/plain": [
       "0"
      ]
     },
     "execution_count": 31,
     "metadata": {},
     "output_type": "execute_result"
    }
   ],
   "source": [
    "len(df[(df['TotalCharges']>6000) & (df['Churn']=='Yes') & (df['tenure']=='Yes')])"
   ]
  },
  {
   "cell_type": "markdown",
   "id": "8d6b55e1",
   "metadata": {},
   "source": [
    "There is no potential outlier in the dataset"
   ]
  },
  {
   "cell_type": "markdown",
   "id": "2139fedf",
   "metadata": {
    "id": "2139fedf"
   },
   "source": [
    "## 3.3 Encode categorical data"
   ]
  },
  {
   "cell_type": "code",
   "execution_count": 32,
   "id": "da6886fc",
   "metadata": {
    "id": "da6886fc"
   },
   "outputs": [],
   "source": [
    "##---------Type the code below this line------------------##"
   ]
  },
  {
   "cell_type": "code",
   "execution_count": 33,
   "id": "a1563750",
   "metadata": {},
   "outputs": [],
   "source": [
    "df_encoded = pd.get_dummies(df, drop_first=True)\n"
   ]
  },
  {
   "cell_type": "markdown",
   "id": "ae5a2917",
   "metadata": {
    "id": "ae5a2917"
   },
   "source": [
    "## 3.4 Text data\n",
    "\n",
    "1. Remove special characters\n",
    "2. Change the case (up-casing and down-casing).\n",
    "3. Tokenization — process of discretizing words within a document.\n",
    "4. Filter Stop Words."
   ]
  },
  {
   "cell_type": "code",
   "execution_count": 34,
   "id": "c86d5b0b",
   "metadata": {
    "id": "c86d5b0b"
   },
   "outputs": [],
   "source": [
    "##---------Type the code below this line------------------##"
   ]
  },
  {
   "cell_type": "markdown",
   "id": "06975652",
   "metadata": {},
   "source": [
    "No Text data in this dataset"
   ]
  },
  {
   "cell_type": "code",
   "execution_count": 35,
   "id": "a3b2cdee",
   "metadata": {
    "id": "a3b2cdee"
   },
   "outputs": [],
   "source": [
    "##---------Type the code below this line------------------##"
   ]
  },
  {
   "cell_type": "markdown",
   "id": "e3cec4fc",
   "metadata": {
    "id": "e3cec4fc"
   },
   "source": [
    "## 3.4 Report\n",
    "\n",
    "Mention and justify the method adopted \n",
    "* to remove duplicate data, if present \n",
    "* to impute or remove missing data, if present \n",
    "* to remove data inconsistencies, if present \n",
    "\n",
    "OR for textdata\n",
    "* How many tokens after step 3?\n",
    "* how may tokens after stop words filtering?\n",
    "\n",
    "If the any of the above are not present, then also add in the report below.\n",
    "\n",
    "Score: 2 Marks (based on the dataset you have, the data prepreation you had to do and report typed, marks will be distributed between 3.1, 3.2, 3.3 and 3.4)"
   ]
  },
  {
   "cell_type": "code",
   "execution_count": 36,
   "id": "3ab84ce6",
   "metadata": {
    "id": "3ab84ce6"
   },
   "outputs": [],
   "source": [
    "##---------Type the code below this line------------------##"
   ]
  },
  {
   "cell_type": "markdown",
   "id": "9f573980",
   "metadata": {},
   "source": [
    "-    **Removing Duplicate Data**: We checked the dataset for any duplicate rows using the **duplicated()** method in pandas. If any duplicates are found, we would have used the drop_duplicates() method to remove them. **In our case no duplicate data was found**\n",
    "\n",
    "-    **Imputing or Removing Missing Data**: We checked the dataset for any missing values using the **isnull()** method in pandas. If missing values are present, we would havecheck the percentage of missing data in each column. If the percentage of missing data is low, we could have used mean or median imputation to fill in missing values. If the percentage of missing data is high, you may consider removing the entire column or row containing the missing data.**In our case no missing datawas found**\n",
    "\n",
    "-    **Removing Data Inconsistencies**: We checked the dataset for any data inconsistencies, such as outliers or invalid data entries. We used visualization techniques (box plots) to identify outliers. **In our dataset no outliers were found**. To check for invalid entries we used the **describe()** method in pandas. The output of this method provides information such as the count of unique values, the most frequent value, and the frequency of the most frequent value for each categorical column. This information helped identify inconsistencies in the data, such as misspelled categories or categories with low frequency or invalid data entries like **whitespaces**.  \n",
    "**We found 11 records out of 7043 records with inconsistencies, so these were removed from the dataset.**\n"
   ]
  },
  {
   "cell_type": "code",
   "execution_count": 37,
   "id": "f0fea7e8",
   "metadata": {
    "id": "f0fea7e8"
   },
   "outputs": [],
   "source": [
    "##---------Type the code below this line------------------##"
   ]
  },
  {
   "cell_type": "markdown",
   "id": "ddffa9cc",
   "metadata": {},
   "source": [
    "There is no text data in the dataset"
   ]
  },
  {
   "cell_type": "markdown",
   "id": "793cd04b",
   "metadata": {
    "id": "793cd04b"
   },
   "source": [
    "## 3.5 Identify the target variables.\n",
    "\n",
    "* Separate the data from the target such that the dataset is in the form of (X,y) or (Features, Label)\n",
    "\n",
    "* Discretize / Encode the target variable or perform one-hot encoding on the target or any other as and if required.\n",
    "\n",
    "* Report the observations\n",
    "\n",
    "Score: 1 Mark"
   ]
  },
  {
   "cell_type": "code",
   "execution_count": 38,
   "id": "c9089b57",
   "metadata": {
    "id": "c9089b57"
   },
   "outputs": [],
   "source": [
    "##---------Type the code below this line------------------##"
   ]
  },
  {
   "cell_type": "code",
   "execution_count": 39,
   "id": "e297d015",
   "metadata": {},
   "outputs": [],
   "source": [
    "X = df_encoded.drop('Churn_Yes', axis=1)\n",
    "y = df_encoded['Churn_Yes']"
   ]
  },
  {
   "cell_type": "markdown",
   "id": "44309b0c",
   "metadata": {},
   "source": [
    "Target variable is: \"Churn\""
   ]
  },
  {
   "cell_type": "markdown",
   "id": "3ae0b5d2",
   "metadata": {
    "id": "3ae0b5d2"
   },
   "source": [
    "# 4. Data Exploration using various plots\n",
    "\n"
   ]
  },
  {
   "cell_type": "markdown",
   "id": "186bf4d7",
   "metadata": {
    "id": "186bf4d7"
   },
   "source": [
    "## 4.1 Scatter plot of each quantitative attribute with the target.\n",
    "\n",
    "Score: 1 Mark"
   ]
  },
  {
   "cell_type": "code",
   "execution_count": 40,
   "id": "868d7b27",
   "metadata": {
    "id": "868d7b27"
   },
   "outputs": [],
   "source": [
    "##---------Type the code below this line------------------##"
   ]
  },
  {
   "cell_type": "code",
   "execution_count": 41,
   "id": "1e6be0b0",
   "metadata": {},
   "outputs": [
    {
     "data": {
      "image/png": "[encoded data removed]",
      "text/plain": [
       "<Figure size 1080x360 with 3 Axes>"
      ]
     },
     "metadata": {
      "needs_background": "light"
     },
     "output_type": "display_data"
    }
   ],
   "source": [
    "numerical_features = df.select_dtypes(include = [np.number]).columns\n",
    "# Create subplots\n",
    "fig, axes = plt.subplots(nrows=1, ncols=len(numerical_features), figsize=(15, 5))\n",
    "target_col = 'Churn'\n",
    "# Create scatter plots\n",
    "for i, col in enumerate(numerical_features):\n",
    "    axes[i].scatter(df[col], df[target_col])\n",
    "    axes[i].set_xlabel(col)\n",
    "    axes[i].set_ylabel(target_col)\n",
    "\n",
    "plt.show()"
   ]
  },
  {
   "cell_type": "code",
   "execution_count": 42,
   "id": "e12eb6b7",
   "metadata": {},
   "outputs": [
    {
     "data": {
      "image/png": "[encoded data removed]",
      "text/plain": [
       "<Figure size 1008x864 with 12 Axes>"
      ]
     },
     "metadata": {
      "needs_background": "light"
     },
     "output_type": "display_data"
    }
   ],
   "source": [
    "# Plotting Bar plots for categorical attributes\n",
    "fig, axes = plt.subplots(4, 3, figsize=(14,12))\n",
    "# Gray for No Churn, highlight Churn!\n",
    "colors = [\"#C7CDCB\", \"#781B24\"]\n",
    "# Set custom color palette\n",
    "sns.set_palette(sns.color_palette(colors))\n",
    "sns.countplot(x=\"PhoneService\", hue=\"Churn\", data=df, ax=axes[0,0]).set(title='Phone Services vs Churn', xlabel=None, ylabel = None)\n",
    "sns.countplot(x=\"MultipleLines\", hue=\"Churn\", data=df, ax=axes[0,1]).set(title='Multiple Lines Services vs Churn', xlabel=None, ylabel = None)\n",
    "sns.countplot(x=\"InternetService\", hue=\"Churn\", data=df, ax=axes[0,2]).set(title='Internet Service vs Churn', xlabel=None, ylabel = None)\n",
    "sns.countplot(x=\"OnlineSecurity\", hue=\"Churn\", data=df, ax=axes[1,0]).set(title='Online Security Services vs Churn', xlabel=None, ylabel = None)\n",
    "sns.countplot(x=\"DeviceProtection\", hue=\"Churn\", data=df, ax=axes[1,1]).set(title='Device Protection Services vs Churn', xlabel=None, ylabel = None)\n",
    "sns.countplot(x=\"TechSupport\", hue=\"Churn\", data=df, ax=axes[1,2]).set(title='Tech Support Services vs Churn', xlabel=None, ylabel = None)\n",
    "sns.countplot(x=\"StreamingTV\", hue=\"Churn\", data=df, ax=axes[2,0]).set(title='Streaming Tv Services vs Churn', xlabel=None, ylabel = None)\n",
    "sns.countplot(x=\"StreamingMovies\", hue=\"Churn\", data=df, ax=axes[2,1]).set(title='Streaming Movies Services vs Churn', xlabel=None, ylabel = None)\n",
    "sns.countplot(x=\"OnlineBackup\", hue=\"Churn\",data=df, ax=axes[2,2]).set(title='Online Back up Services vs Churn', xlabel=None, ylabel = None)\n",
    "sns.countplot(x=\"Contract\", hue=\"Churn\",data=df, ax=axes[3,0]).set(title='Contract up Services vs Churn', xlabel=None, ylabel = None)\n",
    "sns.countplot(x=\"PaperlessBilling\", hue=\"Churn\",data=df, ax=axes[3,1]).set(title='Paperless billing vs Churn', xlabel=None, ylabel = None)\n",
    "sns.countplot(x=\"PaymentMethod\", hue=\"Churn\",data=df, ax=axes[3,2]).set(title='Payment method vs Churn', xlabel=None, ylabel = None)\n",
    "sns.despine()\n",
    "plt.tight_layout()\n",
    "plt.show()"
   ]
  },
  {
   "cell_type": "markdown",
   "id": "4883d5cb",
   "metadata": {},
   "source": [
    "Observations:\n",
    "1. Most of the Churn customers have Fiber optic as Internet service\n",
    "2. Most of the Churn customers have no Technical support\n",
    "3. Most of the Churn customers have no Device protection\n",
    "4. Most of the Churn customers have no Online security\n",
    "5. Most of the Churn customers have no Online backup\n",
    "6. Most of the Churn customers are of Month-to-month contract type\n",
    "7. Most of the Churn customers have Electronic check as Payment method"
   ]
  },
  {
   "cell_type": "code",
   "execution_count": null,
   "id": "9aaca6ac",
   "metadata": {},
   "outputs": [],
   "source": []
  },
  {
   "cell_type": "markdown",
   "id": "575f9e37",
   "metadata": {
    "id": "575f9e37"
   },
   "source": [
    "## 4.2 EDA using visuals\n",
    "* Use (minimum) 2 plots (pair plot, heat map, correlation plot, regression plot...) to identify the optimal set of attributes that can be used for classification. \n",
    "* Name them, explain why you think they can be helpful in the task and perform the plot as well. Unless proper justification for the choice of plots given, no credit will be awarded.\n",
    "\n",
    "Score: 2 Marks"
   ]
  },
  {
   "cell_type": "code",
   "execution_count": 43,
   "id": "4d614311",
   "metadata": {
    "id": "4d614311"
   },
   "outputs": [],
   "source": [
    "##---------Type the code below this line------------------##"
   ]
  },
  {
   "cell_type": "code",
   "execution_count": 44,
   "id": "4567a61b",
   "metadata": {},
   "outputs": [
    {
     "data": {
      "text/plain": [
       "<seaborn.axisgrid.PairGrid at 0x1b41c1c7d00>"
      ]
     },
     "execution_count": 44,
     "metadata": {},
     "output_type": "execute_result"
    },
    {
     "data": {
      "image/png": "[encoded data removed]",
      "text/plain": [
       "<Figure size 592x540 with 12 Axes>"
      ]
     },
     "metadata": {
      "needs_background": "light"
     },
     "output_type": "display_data"
    }
   ],
   "source": [
    "sns.pairplot(data=df, hue='Churn')"
   ]
  },
  {
   "cell_type": "code",
   "execution_count": 45,
   "id": "91f3c4df",
   "metadata": {},
   "outputs": [
    {
     "data": {
      "image/png": "[encoded data removed]",
      "text/plain": [
       "<Figure size 864x288 with 2 Axes>"
      ]
     },
     "metadata": {
      "needs_background": "light"
     },
     "output_type": "display_data"
    }
   ],
   "source": [
    "#Correlation check\n",
    "plt.subplots(figsize=(12,4))\n",
    "sns.heatmap(df.corr(), cmap='coolwarm', annot=True)\n",
    "plt.show()"
   ]
  },
  {
   "cell_type": "markdown",
   "id": "74f55916",
   "metadata": {},
   "source": [
    "Observations:\n",
    "1. \"tenure\" and \"TotalCharges\" are highly correlated to each other.\n",
    "2. \"TotalCharges\" and \"MonthlyCharges\" are moderatey correlated."
   ]
  },
  {
   "cell_type": "markdown",
   "id": "bdbc82a1",
   "metadata": {
    "id": "bdbc82a1"
   },
   "source": [
    "# 5. Data Wrangling\n",
    "\n"
   ]
  },
  {
   "cell_type": "markdown",
   "id": "ca214eb3",
   "metadata": {
    "id": "ca214eb3"
   },
   "source": [
    "## 5.1 Univariate Filters \n",
    "\n",
    "#### Numerical and Categorical Data\n",
    "* Identify top 5 significant features by evaluating each feature independently with respect to the target variable by exploring \n",
    "1. Mutual Information (Information Gain)\n",
    "2. Gini index\n",
    "3. Gain Ratio\n",
    "4. Chi-Squared test\n",
    "5. Fisher Score\n",
    "(From the above 5 you are required to use only any <b>two</b>) \n",
    "\n",
    "#### For Text data\n",
    "\n",
    "1. Stemming / Lemmatization.\n",
    "2. Forming n-grams and storing them in the document vector.\n",
    "3. TF-IDF\n",
    "(From the above 2 you are required to use only any <b>two</b>)\n",
    "\n",
    "\n",
    "Score: 3 Marks"
   ]
  },
  {
   "cell_type": "code",
   "execution_count": 46,
   "id": "a85e9754",
   "metadata": {
    "id": "a85e9754"
   },
   "outputs": [],
   "source": [
    "##---------Type the code below this line------------------##"
   ]
  },
  {
   "cell_type": "markdown",
   "id": "34b2159d",
   "metadata": {},
   "source": [
    " Here, we will be using two techniques, mutual information and chi-squared test.\n",
    "\n",
    "-    **Mutual Information** (Information Gain) is a technique used to measure the mutual dependence between two variables. It is commonly used for feature selection in classification tasks. The higher the mutual information between a feature and the target variable, the more significant the feature is in predicting the target variable.\n",
    "\n",
    "-    **Chi-Squared Test** is another technique used for feature selection in classification tasks. It tests the independence between two variables by comparing the observed distribution with the expected distribution assuming independence. The higher the chi-squared value, the more significant the feature is in predicting the target variable."
   ]
  },
  {
   "cell_type": "code",
   "execution_count": 47,
   "id": "e62b75f7",
   "metadata": {},
   "outputs": [
    {
     "name": "stdout",
     "output_type": "stream",
     "text": [
      "Top 5 significant features using Mutul Information: ['tenure', 'Contract_Two year', 'InternetService_Fiber optic', 'MonthlyCharges', 'TotalCharges']\n",
      "\n",
      "Top 5 significant features using chi-squared test: ['TotalCharges', 'tenure', 'MonthlyCharges', 'Contract_Two year', 'PaymentMethod_Electronic check']\n"
     ]
    }
   ],
   "source": [
    "# Separate the target variable from the feature matrix\n",
    "X = df_encoded.drop('Churn_Yes', axis=1)\n",
    "y = df_encoded['Churn_Yes']\n",
    "\n",
    "# Use mutual information to select top 5 features\n",
    "mutual_info = mutual_info_classif(X, y)\n",
    "mutual_info_df = pd.DataFrame({'feature': X.columns, 'mutual_info': mutual_info})\n",
    "top_5_mutual_info = mutual_info_df.nlargest(5, 'mutual_info')['feature'].tolist()\n",
    "print(f'Top 5 significant features using Mutul Information: {top_5_mutual_info}')\n",
    "\n",
    "# Use chi-squared test to select top 5 features\n",
    "chi2_test, p_values = chi2(X, y)\n",
    "chi2_df = pd.DataFrame({'feature': X.columns, 'chi2': chi2_test})\n",
    "top_5_chi2 = chi2_df.nlargest(5, 'chi2')['feature'].tolist()\n",
    "print(f'\\nTop 5 significant features using chi-squared test: {top_5_chi2}')"
   ]
  },
  {
   "cell_type": "markdown",
   "id": "38031f24",
   "metadata": {
    "id": "38031f24"
   },
   "source": [
    "## 5.2 Report observations\n",
    "\n",
    "Write your observations from the results of each method. Clearly justify your choice of the method.\n",
    "\n",
    "Score 1 mark"
   ]
  },
  {
   "cell_type": "code",
   "execution_count": 48,
   "id": "85c7a3a8",
   "metadata": {
    "id": "85c7a3a8"
   },
   "outputs": [],
   "source": [
    "##---------Type the code below this line------------------##"
   ]
  },
  {
   "cell_type": "markdown",
   "id": "4ef77f56",
   "metadata": {},
   "source": [
    "**Observations:**\n",
    "\n",
    "-    **Mutual Information**: Mutual Information is a measure of the dependence between two variables. It measures how much information one variable can provide about the other. We have used the mutual_info_classif() function from scikit-learn to calculate the mutual information between each feature and the target variable. The top 5 features selected using mutual information are:\n",
    "      -  tenure\n",
    "      -  Contract_Two year\n",
    "      -  InternetService_Fiber optic\n",
    "      -  MonthlyCharges\n",
    "      -  TotalCharges\n",
    "\n",
    "-    **Chi-Squared test**: Chi-Squared test is a statistical test to determine if there is a significant association between two variables. We have used the chi2() function from scikit-learn to calculate the chi-squared statistics between each feature and the target variable. The top 5 features selected using chi-squared test are:\n",
    "      -  TotalCharges\n",
    "      -  tenure\n",
    "      -  MonthlyCharges\n",
    "      -  Contract_Two year\n",
    "      -  PaymentMethod_Electronic check\n",
    "\n",
    "**Justification of the method:**\n",
    "\n",
    "We have used Mutual Information and Chi-Squared test to select the top 5 significant features because these methods are suitable for both categorical and numerical features. Mutual Information measures the dependence between two variables, while Chi-Squared test determines the association between two variables. Both methods are commonly used for feature selection in classification problems.\n"
   ]
  },
  {
   "cell_type": "markdown",
   "id": "06f1173c",
   "metadata": {
    "id": "06f1173c"
   },
   "source": [
    "# 6. Implement Machine Learning Techniques\n",
    "\n",
    "Use any 2 ML algorithms\n",
    "\n",
    "A clear justification have to be given for why a certain algorithm was chosen to address your problem.\n",
    "\n",
    "Score: 4 Marks (2 marks each for each algorithm)"
   ]
  },
  {
   "cell_type": "markdown",
   "id": "477455dc",
   "metadata": {},
   "source": [
    "We will be using two machine learning algorithms: Logistic Regression and Random Forest."
   ]
  },
  {
   "cell_type": "markdown",
   "id": "040afed8",
   "metadata": {
    "id": "040afed8"
   },
   "source": [
    "## 6.1 ML technique 1 + Justification"
   ]
  },
  {
   "cell_type": "code",
   "execution_count": 49,
   "id": "7042235d",
   "metadata": {
    "id": "7042235d"
   },
   "outputs": [],
   "source": [
    "##---------Type the code below this line------------------##\n"
   ]
  },
  {
   "cell_type": "markdown",
   "id": "677e1676",
   "metadata": {},
   "source": [
    "**Logistic Regression:**\n",
    "\n",
    "We have chosen Logistic regression as it is a simple and efficient algorithm for binary classification problems like churn prediction as its can handle both categorical and numerical data. It models the probability of the binary output variable based on the input features. It is a linear model that uses a sigmoid function to map the output of the linear equation to a probability value between 0 and 1. Logistic Regression is easy to implement, interpret, and it provides the probability estimates of the predicted outcomes. Hence, Logistic Regression can be a good choice for the churn prediction problem."
   ]
  },
  {
   "cell_type": "code",
   "execution_count": 50,
   "id": "3468d306",
   "metadata": {},
   "outputs": [],
   "source": [
    "# Split the data into training and testing sets\n",
    "X_train, X_test, y_train, y_test = train_test_split(X, y, test_size=0.2, random_state=42)\n",
    "\n",
    "# Logistic Regression\n",
    "lr = LogisticRegression()\n",
    "lr.fit(X_train, y_train)\n",
    "lr_pred = lr.predict(X_test)"
   ]
  },
  {
   "cell_type": "markdown",
   "id": "f610ca8c",
   "metadata": {
    "id": "f610ca8c"
   },
   "source": [
    "## 6.2 ML technique 2 + Justification"
   ]
  },
  {
   "cell_type": "code",
   "execution_count": 51,
   "id": "9b75e079",
   "metadata": {
    "id": "9b75e079"
   },
   "outputs": [],
   "source": [
    "##---------Type the code below this line------------------##"
   ]
  },
  {
   "cell_type": "markdown",
   "id": "3883478a",
   "metadata": {},
   "source": [
    "**Random Forest:**\n",
    "\n",
    "We have chose Random Forest as is an ensemble algorithm that creates a set of decision trees from random subsets of the data and random subsets of the features. It is a non-linear model that can handle both categorical and numerical data. Random Forest has the ability to capture non-linear relationships between the features and the target variable. It is also robust to outliers and missing data. Random Forest can provide feature importance measures, which can be helpful in understanding the important features that contribute to churn prediction. Hence, Random Forest will be a good choice for the churn prediction problem."
   ]
  },
  {
   "cell_type": "code",
   "execution_count": 52,
   "id": "84db7250",
   "metadata": {},
   "outputs": [],
   "source": [
    "# Random Forest\n",
    "rf = RandomForestClassifier()\n",
    "rf.fit(X_train, y_train)\n",
    "rf_pred = rf.predict(X_test)"
   ]
  },
  {
   "cell_type": "markdown",
   "id": "eb57940c",
   "metadata": {
    "id": "eb57940c"
   },
   "source": [
    "## 7. Conclusion \n",
    "\n",
    "Compare the performance of the ML techniques used.\n",
    "\n",
    "Derive values for preformance study metrics like accuracy, precision, recall, F1 Score, AUC-ROC etc to compare the ML algos and plot them. A proper comparision based on different metrics should be done and not just accuracy alone, only then the comparision becomes authentic. You may use Confusion matrix, classification report, Word cloud etc as per the requirement of your application/problem.\n",
    "\n",
    "Score 1 Mark"
   ]
  },
  {
   "cell_type": "code",
   "execution_count": 53,
   "id": "9bf06eb1",
   "metadata": {
    "id": "9bf06eb1"
   },
   "outputs": [],
   "source": [
    "##---------Type the code below this line------------------##"
   ]
  },
  {
   "cell_type": "markdown",
   "id": "d301e386",
   "metadata": {},
   "source": [
    "Code to disable scrolling"
   ]
  },
  {
   "cell_type": "code",
   "execution_count": 54,
   "id": "c75ab5cb",
   "metadata": {},
   "outputs": [
    {
     "data": {
      "application/javascript": [
       "IPython.OutputArea.prototype._should_scroll = function(lines) {\n",
       "    return false;\n",
       "}\n"
      ],
      "text/plain": [
       "<IPython.core.display.Javascript object>"
      ]
     },
     "metadata": {},
     "output_type": "display_data"
    }
   ],
   "source": [
    "%%javascript\n",
    "IPython.OutputArea.prototype._should_scroll = function(lines) {\n",
    "    return false;\n",
    "}"
   ]
  },
  {
   "cell_type": "code",
   "execution_count": 55,
   "id": "cc80db6d",
   "metadata": {},
   "outputs": [
    {
     "name": "stdout",
     "output_type": "stream",
     "text": [
      "Logistic Regression Accuracy: 0.7846481876332623\n",
      "\n",
      "Classification Report:\n",
      "              precision    recall  f1-score   support\n",
      "\n",
      "           0       0.83      0.88      0.86      1033\n",
      "           1       0.61      0.52      0.56       374\n",
      "\n",
      "    accuracy                           0.78      1407\n",
      "   macro avg       0.72      0.70      0.71      1407\n",
      "weighted avg       0.78      0.78      0.78      1407\n",
      "\n",
      "\n",
      "======================================================\n",
      "\n",
      "Random Forest Accuracy: 0.7818052594171997\n",
      "\n",
      "Classification Report:\n",
      "              precision    recall  f1-score   support\n",
      "\n",
      "           0       0.82      0.90      0.86      1033\n",
      "           1       0.62      0.47      0.53       374\n",
      "\n",
      "    accuracy                           0.78      1407\n",
      "   macro avg       0.72      0.68      0.70      1407\n",
      "weighted avg       0.77      0.78      0.77      1407\n",
      "\n",
      "\n",
      "======================================================\n"
     ]
    },
    {
     "data": {
      "image/png": "[encoded data removed]",
      "text/plain": [
       "<Figure size 576x432 with 2 Axes>"
      ]
     },
     "metadata": {
      "needs_background": "light"
     },
     "output_type": "display_data"
    },
    {
     "data": {
      "image/png": "[encoded data removed]",
      "text/plain": [
       "<Figure size 576x432 with 2 Axes>"
      ]
     },
     "metadata": {
      "needs_background": "light"
     },
     "output_type": "display_data"
    },
    {
     "data": {
      "image/png": "[encoded data removed]",
      "text/plain": [
       "<Figure size 576x432 with 1 Axes>"
      ]
     },
     "metadata": {
      "needs_background": "light"
     },
     "output_type": "display_data"
    }
   ],
   "source": [
    "# Evaluate performance using various metrics\n",
    "lr_acc = accuracy_score(y_test, lr_pred)\n",
    "print('Logistic Regression Accuracy:', lr_acc)\n",
    "print('\\nClassification Report:')\n",
    "print(classification_report(y_test, lr_pred))\n",
    "print('\\n======================================================')\n",
    "\n",
    "rf_acc = accuracy_score(y_test, rf_pred)\n",
    "print('\\nRandom Forest Accuracy:', rf_acc)\n",
    "print('\\nClassification Report:')\n",
    "print(classification_report(y_test, rf_pred))\n",
    "print('\\n======================================================')\n",
    "\n",
    "# Get confusion matrix for logistic regression\n",
    "cm_lr = confusion_matrix(y_test, lr_pred)\n",
    "\n",
    "# Get confusion matrix for random forest\n",
    "cm_rf = confusion_matrix(y_test, rf_pred)\n",
    "\n",
    "# Plot confusion matrix for logistic regression\n",
    "fig, ax = plt.subplots(figsize=(8, 6))\n",
    "sns.heatmap(cm_lr, annot=True, cmap='Blues', fmt='g', xticklabels=['Not Churn', 'Churn'], yticklabels=['Not Churn', 'Churn'])\n",
    "ax.set_xlabel('Predicted labels')\n",
    "ax.set_ylabel('True labels')\n",
    "ax.set_title('Confusion Matrix (Logistic Regression)')\n",
    "\n",
    "# Plot confusion matrix for random forest\n",
    "fig, ax = plt.subplots(figsize=(8, 6))\n",
    "sns.heatmap(cm_rf, annot=True, cmap='Blues', fmt='g', xticklabels=['Not Churn', 'Churn'], yticklabels=['Not Churn', 'Churn'])\n",
    "ax.set_xlabel('Predicted labels')\n",
    "ax.set_ylabel('True labels')\n",
    "ax.set_title('Confusion Matrix (Random Forest)')\n",
    "plt.show()\n",
    "\n",
    "lr_acc = accuracy_score(y_test, lr_pred)\n",
    "rf_acc = accuracy_score(y_test, rf_pred)\n",
    "\n",
    "lr_prec = precision_score(y_test, lr_pred)\n",
    "rf_prec = precision_score(y_test, rf_pred)\n",
    "\n",
    "lr_recall = recall_score(y_test, lr_pred)\n",
    "rf_recall = recall_score(y_test, rf_pred)\n",
    "\n",
    "lr_f1 = f1_score(y_test, lr_pred)\n",
    "rf_f1 = f1_score(y_test, rf_pred)\n",
    "\n",
    "lr_auc = roc_auc_score(y_test, lr_pred)\n",
    "rf_auc = roc_auc_score(y_test, rf_pred)\n",
    "\n",
    "# Plot the results using a bar chart\n",
    "metrics = ['Accuracy', 'Precision', 'Recall', 'F1 score', 'AUC-ROC']\n",
    "lr_scores = [lr_acc, lr_prec, lr_recall, lr_f1, lr_auc]\n",
    "rf_scores = [rf_acc, rf_prec, rf_recall, rf_f1, rf_auc]\n",
    "\n",
    "fig, ax = plt.subplots(figsize=(8, 6))\n",
    "\n",
    "# Set the width of the bars\n",
    "bar_width = 0.35\n",
    "\n",
    "# Set the x-axis positions of the bars\n",
    "x_pos = np.arange(len(metrics))\n",
    "\n",
    "# Plot the bars for Logistic Regression\n",
    "ax.bar(x_pos - bar_width/2, lr_scores, width=bar_width, color='b', alpha=0.5, label='Logistic Regression')\n",
    "\n",
    "# Plot the bars for Random Forest\n",
    "ax.bar(x_pos + bar_width/2, rf_scores, width=bar_width, color='r', alpha=0.5, label='Random Forest')\n",
    "\n",
    "# Set the x-axis labels and title\n",
    "ax.set_xticks(x_pos)\n",
    "ax.set_xticklabels(metrics)\n",
    "ax.set_xlabel('Performance Metrics')\n",
    "ax.set_ylabel('Score')\n",
    "ax.set_title('Comparison of ML algorithms')\n",
    "\n",
    "# Add a legend\n",
    "ax.legend()\n",
    "\n",
    "# Show the plot\n",
    "plt.show()"
   ]
  },
  {
   "cell_type": "markdown",
   "id": "b2d21622",
   "metadata": {},
   "source": [
    "**Observations**:\n",
    "\n",
    "From the comparison of the two machine learning algorithms, we can observe the following:\n",
    "\n",
    "-    Both the algorithms are performing well in terms of accuracy, precision, recall, and F1 score. However, Logistic Regression is performing slightly better than Random Forest in terms of all these metrics except Precision.\n",
    "\n",
    "-    The AUC-ROC score is also higher for Logistic Regression, indicating that it has better overall performance in terms of separating the positive and negative classes.\n",
    "\n",
    "-    The confusion matrix for Logistic Regression shows that it has a higher true positive rate than Random Forest, which means it is better at identifying customers who are likely to churn.\n",
    "\n",
    "-    In terms of computational complexity, Random Forest is more complex than Logistic Regression, which may be a consideration if we have a very large dataset or limited computing resources.\n",
    "\n",
    "Overall, based on the performance metrics and the observations, we can conclude that Logistic Regression is a better algorithm for this particular problem of predicting customer churn in a telecom company."
   ]
  },
  {
   "cell_type": "markdown",
   "id": "79ed0137",
   "metadata": {
    "id": "79ed0137"
   },
   "source": [
    "## 8. Solution\n",
    "\n",
    "What is the solution that is proposed to solve the business problem discussed in Section 1. Also share your learnings while working through solving the problem in terms of challenges, observations, decisions made etc.\n",
    "\n",
    "Score 2 Marks"
   ]
  },
  {
   "cell_type": "markdown",
   "id": "324448eb",
   "metadata": {
    "id": "324448eb"
   },
   "source": [
    "--------------Type the answers below this line--------------"
   ]
  },
  {
   "cell_type": "raw",
   "id": "68ab61d5",
   "metadata": {
    "id": "68ab61d5"
   },
   "source": [
    "##---------Type the answer below this line------------------##"
   ]
  },
  {
   "cell_type": "markdown",
   "id": "2d872d80",
   "metadata": {},
   "source": [
    "**Proposed Solution**:\n",
    "\n",
    "\n",
    "Based on the analysis and modeling, the solution proposed to solve the business problem of customer churn is to focus on the top factors that influence churn and implement targeted strategies to retain these customers. The top factors identified through feature selection include contract type, tenure, payment method, and internet service.\n",
    "\n",
    "Some potential strategies that could be implemented to retain customers based on these factors include offering incentives for customers to switch to longer-term contracts, improving the payment experience for customers, and enhancing the quality of internet service. Additionally, it may be useful to conduct further analysis to identify specific customer segments that are most at risk for churn and tailor retention strategies to these segments.\n",
    "\n",
    "\n",
    "**Learnings**:\n",
    "\n",
    "In terms of learnings, this project highlights the importance of data cleaning and feature engineering in machine learning. It also underscores the importance of understanding the business problem and domain in order to make informed decisions about data preprocessing, feature selection, and modeling. Additionally, it demonstrates the usefulness of various machine learning algorithms and performance metrics for solving classification problems. Finally, it highlights the need for ongoing monitoring and evaluation of models to ensure their effectiveness in solving the business problem over time."
   ]
  },
  {
   "cell_type": "markdown",
   "id": "RcDDQlfbZQ7E",
   "metadata": {
    "id": "RcDDQlfbZQ7E"
   },
   "source": [
    "##NOTE\n",
    "All Late Submissions will incur a penalty of -2 marks. Do ensure on time submission to avoid penalty.\n",
    "\n",
    "Good Luck!!!"
   ]
  }
 ],
 "metadata": {
  "colab": {
   "provenance": [
    {
     "file_id": "1odJexpJ0S99Vsdi3hrssHTDeemXCt7YL",
     "timestamp": 1677154931950
    }
   ]
  },
  "kernelspec": {
   "display_name": "Python 3 (ipykernel)",
   "language": "python",
   "name": "python3"
  },
  "language_info": {
   "codemirror_mode": {
    "name": "ipython",
    "version": 3
   },
   "file_extension": ".py",
   "mimetype": "text/x-python",
   "name": "python",
   "nbconvert_exporter": "python",
   "pygments_lexer": "ipython3",
   "version": "3.9.7"
  }
 },
 "nbformat": 4,
 "nbformat_minor": 5
}
